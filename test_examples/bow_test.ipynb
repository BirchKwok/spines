{
 "cells": [
  {
   "cell_type": "code",
   "execution_count": 1,
   "id": "d94df198",
   "metadata": {
    "ExecuteTime": {
     "end_time": "2021-08-11T15:13:53.603719Z",
     "start_time": "2021-08-11T15:13:51.786203Z"
    }
   },
   "outputs": [
    {
     "name": "stderr",
     "output_type": "stream",
     "text": [
      "2021-08-11 23:13:52.146902: I tensorflow/stream_executor/platform/default/dso_loader.cc:53] Successfully opened dynamic library libcudart.so.11.0\n"
     ]
    }
   ],
   "source": [
    "import sys\n",
    "sys.path.append('../')\n",
    "\n",
    "from spines.text.text_to_sequence import BoWTransformer"
   ]
  },
  {
   "cell_type": "code",
   "execution_count": 2,
   "id": "760e0b0a",
   "metadata": {
    "ExecuteTime": {
     "end_time": "2021-08-11T15:13:53.607073Z",
     "start_time": "2021-08-11T15:13:53.604570Z"
    }
   },
   "outputs": [],
   "source": [
    "bow = BoWTransformer()"
   ]
  },
  {
   "cell_type": "code",
   "execution_count": 3,
   "id": "0a5584ac",
   "metadata": {
    "ExecuteTime": {
     "end_time": "2021-08-11T15:13:53.617716Z",
     "start_time": "2021-08-11T15:13:53.608850Z"
    }
   },
   "outputs": [],
   "source": [
    "corpus = ['中国', '不会', '屈服', '于', '霸权主义', '和', '强权政治']"
   ]
  },
  {
   "cell_type": "code",
   "execution_count": 14,
   "id": "82476759",
   "metadata": {
    "ExecuteTime": {
     "end_time": "2021-08-11T15:17:14.232021Z",
     "start_time": "2021-08-11T15:17:14.224666Z"
    }
   },
   "outputs": [
    {
     "data": {
      "text/plain": [
       "<spines.text.text_to_sequence.BoWTransformer at 0x7f0f2c5d4730>"
      ]
     },
     "execution_count": 14,
     "metadata": {},
     "output_type": "execute_result"
    }
   ],
   "source": [
    "bow.fit(corpus)\n",
    "# print(x)"
   ]
  },
  {
   "cell_type": "code",
   "execution_count": 16,
   "id": "154f887c",
   "metadata": {
    "ExecuteTime": {
     "end_time": "2021-08-11T15:17:39.574381Z",
     "start_time": "2021-08-11T15:17:39.568537Z"
    }
   },
   "outputs": [
    {
     "name": "stdout",
     "output_type": "stream",
     "text": [
      "  (0, 1)\t1\n",
      "  (1, 3)\t1\n",
      "  (2, 6)\t1\n",
      "  (3, 2)\t1\n",
      "  (4, 0)\t1\n",
      "  (5, 4)\t1\n",
      "  (6, 5)\t1\n"
     ]
    }
   ],
   "source": [
    "print(bow.transform(corpus))"
   ]
  },
  {
   "cell_type": "code",
   "execution_count": 17,
   "id": "e7a79447",
   "metadata": {
    "ExecuteTime": {
     "end_time": "2021-08-11T15:18:11.783375Z",
     "start_time": "2021-08-11T15:18:11.776355Z"
    }
   },
   "outputs": [
    {
     "data": {
      "text/plain": [
       "<7x7 sparse matrix of type '<class 'numpy.longlong'>'\n",
       "\twith 7 stored elements in Compressed Sparse Row format>"
      ]
     },
     "execution_count": 17,
     "metadata": {},
     "output_type": "execute_result"
    }
   ],
   "source": [
    "x = bow.fit_transform(corpus)\n",
    "x"
   ]
  },
  {
   "cell_type": "code",
   "execution_count": 18,
   "id": "08c254cc",
   "metadata": {
    "ExecuteTime": {
     "end_time": "2021-08-11T15:18:13.982803Z",
     "start_time": "2021-08-11T15:18:13.979456Z"
    }
   },
   "outputs": [
    {
     "data": {
      "text/plain": [
       "array([[0, 1, 0, 0, 0, 0, 0],\n",
       "       [0, 0, 0, 1, 0, 0, 0],\n",
       "       [0, 0, 0, 0, 0, 0, 1],\n",
       "       [0, 0, 1, 0, 0, 0, 0],\n",
       "       [1, 0, 0, 0, 0, 0, 0],\n",
       "       [0, 0, 0, 0, 1, 0, 0],\n",
       "       [0, 0, 0, 0, 0, 1, 0]], dtype=int64)"
      ]
     },
     "execution_count": 18,
     "metadata": {},
     "output_type": "execute_result"
    }
   ],
   "source": [
    "x.toarray()"
   ]
  },
  {
   "cell_type": "code",
   "execution_count": 19,
   "id": "ad906f81",
   "metadata": {
    "ExecuteTime": {
     "end_time": "2021-08-11T15:18:16.451141Z",
     "start_time": "2021-08-11T15:18:16.445962Z"
    }
   },
   "outputs": [
    {
     "data": {
      "text/plain": [
       "{'霸权主义': 0, '中国': 1, '于': 2, '和': 4, '不会': 3, '强权政治': 5, '屈服': 6}"
      ]
     },
     "execution_count": 19,
     "metadata": {},
     "output_type": "execute_result"
    }
   ],
   "source": [
    "bow.get_vocab_"
   ]
  }
 ],
 "metadata": {
  "hide_input": false,
  "kernelspec": {
   "display_name": "Python 3 (ipykernel)",
   "language": "python",
   "name": "python3"
  },
  "language_info": {
   "codemirror_mode": {
    "name": "ipython",
    "version": 3
   },
   "file_extension": ".py",
   "mimetype": "text/x-python",
   "name": "python",
   "nbconvert_exporter": "python",
   "pygments_lexer": "ipython3",
   "version": "3.8.2"
  },
  "toc": {
   "base_numbering": 1,
   "nav_menu": {},
   "number_sections": true,
   "sideBar": true,
   "skip_h1_title": false,
   "title_cell": "Table of Contents",
   "title_sidebar": "Contents",
   "toc_cell": false,
   "toc_position": {},
   "toc_section_display": true,
   "toc_window_display": false
  }
 },
 "nbformat": 4,
 "nbformat_minor": 5
}
