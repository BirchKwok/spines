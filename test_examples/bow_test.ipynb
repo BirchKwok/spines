{
 "cells": [
  {
   "cell_type": "code",
   "execution_count": 1,
   "id": "d94df198",
   "metadata": {
    "ExecuteTime": {
     "end_time": "2021-08-12T12:55:08.478356Z",
     "start_time": "2021-08-12T12:55:06.785795Z"
    }
   },
   "outputs": [
    {
     "name": "stderr",
     "output_type": "stream",
     "text": [
      "2021-08-12 20:55:07.116443: I tensorflow/stream_executor/platform/default/dso_loader.cc:53] Successfully opened dynamic library libcudart.so.11.0\n"
     ]
    }
   ],
   "source": [
    "import sys\n",
    "sys.path.append('../')\n",
    "\n",
    "from spines.text.text_to_sequence import BoWTransformer"
   ]
  },
  {
   "cell_type": "code",
   "execution_count": 2,
   "id": "760e0b0a",
   "metadata": {
    "ExecuteTime": {
     "end_time": "2021-08-12T12:55:08.481719Z",
     "start_time": "2021-08-12T12:55:08.479200Z"
    }
   },
   "outputs": [],
   "source": [
    "bow = BoWTransformer()"
   ]
  },
  {
   "cell_type": "code",
   "execution_count": 13,
   "id": "0a5584ac",
   "metadata": {
    "ExecuteTime": {
     "end_time": "2021-08-12T13:01:34.826536Z",
     "start_time": "2021-08-12T13:01:34.823877Z"
    }
   },
   "outputs": [],
   "source": [
    "corpus = ['中国', '不会', '屈服', '于', '霸权主义', '和', '强权政治', 'the thing is good.',\n",
    "         '中国', '不会', '屈服', '于', '霸权主义', '和', '强权政治', 'the thing is good.',\n",
    "         '中国', '不会', '屈服', '于', '霸权主义', '和', '强权政治', 'the thing is good.',\n",
    "         '中国', '不会', '屈服', '于', '霸权主义', '和', '强权政治', 'the thing is good.'\n",
    "         ]"
   ]
  },
  {
   "cell_type": "code",
   "execution_count": 16,
   "id": "e7a79447",
   "metadata": {
    "ExecuteTime": {
     "end_time": "2021-08-12T13:01:56.374580Z",
     "start_time": "2021-08-12T13:01:56.370852Z"
    }
   },
   "outputs": [
    {
     "name": "stdout",
     "output_type": "stream",
     "text": [
      "['good', 'thing', '不会', '中国', 'is', '和', 'the', '霸权主义', '于', '强权政治', '屈服']\n"
     ]
    },
    {
     "data": {
      "text/plain": [
       "<32x11 sparse matrix of type '<class 'numpy.int64'>'\n",
       "\twith 44 stored elements in Compressed Sparse Row format>"
      ]
     },
     "execution_count": 16,
     "metadata": {},
     "output_type": "execute_result"
    }
   ],
   "source": [
    "x = bow.fit_transform(corpus)\n",
    "x"
   ]
  },
  {
   "cell_type": "code",
   "execution_count": 18,
   "id": "cb11a868",
   "metadata": {
    "ExecuteTime": {
     "end_time": "2021-08-12T13:02:20.675189Z",
     "start_time": "2021-08-12T13:02:20.671215Z"
    }
   },
   "outputs": [
    {
     "data": {
      "text/plain": [
       "[['中国'],\n",
       " ['不会'],\n",
       " ['屈服'],\n",
       " ['于'],\n",
       " ['霸权主义'],\n",
       " ['和'],\n",
       " ['强权政治'],\n",
       " ['good', 'thing', 'is', 'the'],\n",
       " ['中国'],\n",
       " ['不会'],\n",
       " ['屈服'],\n",
       " ['于'],\n",
       " ['霸权主义'],\n",
       " ['和'],\n",
       " ['强权政治'],\n",
       " ['good', 'thing', 'is', 'the'],\n",
       " ['中国'],\n",
       " ['不会'],\n",
       " ['屈服'],\n",
       " ['于'],\n",
       " ['霸权主义'],\n",
       " ['和'],\n",
       " ['强权政治'],\n",
       " ['good', 'thing', 'is', 'the'],\n",
       " ['中国'],\n",
       " ['不会'],\n",
       " ['屈服'],\n",
       " ['于'],\n",
       " ['霸权主义'],\n",
       " ['和'],\n",
       " ['强权政治'],\n",
       " ['good', 'thing', 'is', 'the']]"
      ]
     },
     "execution_count": 18,
     "metadata": {},
     "output_type": "execute_result"
    }
   ],
   "source": [
    "bow.inverse_transform(x.toarray())"
   ]
  },
  {
   "cell_type": "code",
   "execution_count": 19,
   "id": "5c057f23",
   "metadata": {
    "ExecuteTime": {
     "end_time": "2021-08-12T13:02:32.241947Z",
     "start_time": "2021-08-12T13:02:32.238934Z"
    }
   },
   "outputs": [
    {
     "data": {
      "text/plain": [
       "['中国',\n",
       " '不会',\n",
       " '屈服',\n",
       " '于',\n",
       " '霸权主义',\n",
       " '和',\n",
       " '强权政治',\n",
       " 'the thing is good.',\n",
       " '中国',\n",
       " '不会',\n",
       " '屈服',\n",
       " '于',\n",
       " '霸权主义',\n",
       " '和',\n",
       " '强权政治',\n",
       " 'the thing is good.',\n",
       " '中国',\n",
       " '不会',\n",
       " '屈服',\n",
       " '于',\n",
       " '霸权主义',\n",
       " '和',\n",
       " '强权政治',\n",
       " 'the thing is good.',\n",
       " '中国',\n",
       " '不会',\n",
       " '屈服',\n",
       " '于',\n",
       " '霸权主义',\n",
       " '和',\n",
       " '强权政治',\n",
       " 'the thing is good.']"
      ]
     },
     "execution_count": 19,
     "metadata": {},
     "output_type": "execute_result"
    }
   ],
   "source": [
    "corpus"
   ]
  },
  {
   "cell_type": "code",
   "execution_count": 23,
   "id": "ebd8a5fa",
   "metadata": {
    "ExecuteTime": {
     "end_time": "2021-08-12T13:03:23.481807Z",
     "start_time": "2021-08-12T13:03:23.478434Z"
    }
   },
   "outputs": [
    {
     "data": {
      "text/plain": [
       "array([[0, 0, 0, 4, 0, 0, 0, 0, 0, 0, 0],\n",
       "       [0, 0, 4, 0, 0, 0, 0, 0, 0, 0, 0],\n",
       "       [0, 0, 0, 0, 0, 0, 0, 0, 0, 0, 4],\n",
       "       [0, 0, 0, 0, 0, 0, 0, 0, 4, 0, 0],\n",
       "       [0, 0, 0, 0, 0, 0, 0, 4, 0, 0, 0],\n",
       "       [0, 0, 0, 0, 0, 4, 0, 0, 0, 0, 0],\n",
       "       [0, 0, 0, 0, 0, 0, 0, 0, 0, 4, 0],\n",
       "       [4, 4, 0, 0, 4, 0, 4, 0, 0, 0, 0],\n",
       "       [0, 0, 0, 4, 0, 0, 0, 0, 0, 0, 0],\n",
       "       [0, 0, 4, 0, 0, 0, 0, 0, 0, 0, 0],\n",
       "       [0, 0, 0, 0, 0, 0, 0, 0, 0, 0, 4],\n",
       "       [0, 0, 0, 0, 0, 0, 0, 0, 4, 0, 0],\n",
       "       [0, 0, 0, 0, 0, 0, 0, 4, 0, 0, 0],\n",
       "       [0, 0, 0, 0, 0, 4, 0, 0, 0, 0, 0],\n",
       "       [0, 0, 0, 0, 0, 0, 0, 0, 0, 4, 0],\n",
       "       [4, 4, 0, 0, 4, 0, 4, 0, 0, 0, 0],\n",
       "       [0, 0, 0, 4, 0, 0, 0, 0, 0, 0, 0],\n",
       "       [0, 0, 4, 0, 0, 0, 0, 0, 0, 0, 0],\n",
       "       [0, 0, 0, 0, 0, 0, 0, 0, 0, 0, 4],\n",
       "       [0, 0, 0, 0, 0, 0, 0, 0, 4, 0, 0],\n",
       "       [0, 0, 0, 0, 0, 0, 0, 4, 0, 0, 0],\n",
       "       [0, 0, 0, 0, 0, 4, 0, 0, 0, 0, 0],\n",
       "       [0, 0, 0, 0, 0, 0, 0, 0, 0, 4, 0],\n",
       "       [4, 4, 0, 0, 4, 0, 4, 0, 0, 0, 0],\n",
       "       [0, 0, 0, 4, 0, 0, 0, 0, 0, 0, 0],\n",
       "       [0, 0, 4, 0, 0, 0, 0, 0, 0, 0, 0],\n",
       "       [0, 0, 0, 0, 0, 0, 0, 0, 0, 0, 4],\n",
       "       [0, 0, 0, 0, 0, 0, 0, 0, 4, 0, 0],\n",
       "       [0, 0, 0, 0, 0, 0, 0, 4, 0, 0, 0],\n",
       "       [0, 0, 0, 0, 0, 4, 0, 0, 0, 0, 0],\n",
       "       [0, 0, 0, 0, 0, 0, 0, 0, 0, 4, 0],\n",
       "       [4, 4, 0, 0, 4, 0, 4, 0, 0, 0, 0]])"
      ]
     },
     "execution_count": 23,
     "metadata": {},
     "output_type": "execute_result"
    }
   ],
   "source": [
    "a = x.toarray()\n",
    "\n",
    "a"
   ]
  },
  {
   "cell_type": "code",
   "execution_count": null,
   "id": "db138a4e",
   "metadata": {},
   "outputs": [],
   "source": []
  },
  {
   "cell_type": "code",
   "execution_count": 32,
   "id": "0d935823",
   "metadata": {
    "ExecuteTime": {
     "end_time": "2021-08-12T13:20:49.744118Z",
     "start_time": "2021-08-12T13:20:49.735554Z"
    }
   },
   "outputs": [
    {
     "ename": "SyntaxError",
     "evalue": "closing parenthesis ')' does not match opening parenthesis '[' (3795474824.py, line 1)",
     "output_type": "error",
     "traceback": [
      "\u001b[0;36m  File \u001b[0;32m\"/tmp/ipykernel_18322/3795474824.py\"\u001b[0;36m, line \u001b[0;32m1\u001b[0m\n\u001b[0;31m    np.ndarray.flatten(np.array([[1, 2, 3], [3, 4, 5], [1, 2, 4]))\u001b[0m\n\u001b[0m                                                                ^\u001b[0m\n\u001b[0;31mSyntaxError\u001b[0m\u001b[0;31m:\u001b[0m closing parenthesis ')' does not match opening parenthesis '['\n"
     ]
    }
   ],
   "source": []
  }
 ],
 "metadata": {
  "hide_input": false,
  "kernelspec": {
   "display_name": "Python 3 (ipykernel)",
   "language": "python",
   "name": "python3"
  },
  "language_info": {
   "codemirror_mode": {
    "name": "ipython",
    "version": 3
   },
   "file_extension": ".py",
   "mimetype": "text/x-python",
   "name": "python",
   "nbconvert_exporter": "python",
   "pygments_lexer": "ipython3",
   "version": "3.8.2"
  },
  "toc": {
   "base_numbering": 1,
   "nav_menu": {},
   "number_sections": true,
   "sideBar": true,
   "skip_h1_title": false,
   "title_cell": "Table of Contents",
   "title_sidebar": "Contents",
   "toc_cell": false,
   "toc_position": {},
   "toc_section_display": true,
   "toc_window_display": false
  }
 },
 "nbformat": 4,
 "nbformat_minor": 5
}
