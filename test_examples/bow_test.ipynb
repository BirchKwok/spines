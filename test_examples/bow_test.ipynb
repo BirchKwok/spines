{
 "cells": [
  {
   "cell_type": "code",
   "execution_count": 1,
   "id": "d94df198",
   "metadata": {
    "ExecuteTime": {
     "end_time": "2021-08-13T14:14:01.742204Z",
     "start_time": "2021-08-13T14:13:59.920567Z"
    }
   },
   "outputs": [],
   "source": [
    "import sys\n",
    "sys.path.append('../')\n",
    "\n",
    "from spines.text.text_to_sequence import BoWTransformer"
   ]
  },
  {
   "cell_type": "code",
   "execution_count": 2,
   "id": "760e0b0a",
   "metadata": {
    "ExecuteTime": {
     "end_time": "2021-08-13T14:14:01.745324Z",
     "start_time": "2021-08-13T14:14:01.743308Z"
    }
   },
   "outputs": [],
   "source": [
    "bow = BoWTransformer(stop_words=['the'])"
   ]
  },
  {
   "cell_type": "code",
   "execution_count": 3,
   "id": "0a5584ac",
   "metadata": {
    "ExecuteTime": {
     "end_time": "2021-08-13T14:14:01.750665Z",
     "start_time": "2021-08-13T14:14:01.746413Z"
    }
   },
   "outputs": [],
   "source": [
    "corpus = ['中国', '不会', '屈服', '于', '霸权主义', '和', '强权政治', 'The thing is good.']"
   ]
  },
  {
   "cell_type": "code",
   "execution_count": 4,
   "id": "e7a79447",
   "metadata": {
    "ExecuteTime": {
     "end_time": "2021-08-13T14:14:01.761801Z",
     "start_time": "2021-08-13T14:14:01.751448Z"
    }
   },
   "outputs": [
    {
     "name": "stdout",
     "output_type": "stream",
     "text": [
      "num 10\n",
      "c ['中国', '不会', '屈服', '于', '霸权主义', '和', '强权政治', 'thing', 'is', 'good']\n",
      "[1, 1, 1, 1, 1, 1, 1, 1, 1, 1]\n"
     ]
    },
    {
     "data": {
      "text/plain": [
       "<8x10 sparse matrix of type '<class 'numpy.int64'>'\n",
       "\twith 10 stored elements in Compressed Sparse Row format>"
      ]
     },
     "execution_count": 4,
     "metadata": {},
     "output_type": "execute_result"
    }
   ],
   "source": [
    "x = bow.fit_transform(corpus)\n",
    "x"
   ]
  },
  {
   "cell_type": "code",
   "execution_count": 13,
   "id": "cb11a868",
   "metadata": {
    "ExecuteTime": {
     "end_time": "2021-08-13T14:14:39.194672Z",
     "start_time": "2021-08-13T14:14:39.191963Z"
    }
   },
   "outputs": [
    {
     "data": {
      "text/plain": [
       "[['中国', '屈服', '和', 'good', '不会', '强权政治', 'is']]"
      ]
     },
     "execution_count": 13,
     "metadata": {},
     "output_type": "execute_result"
    }
   ],
   "source": [
    "bow.inverse_transform([[1,1,0,1,0,1,1,1,1]])"
   ]
  },
  {
   "cell_type": "code",
   "execution_count": null,
   "id": "5dbf51a1",
   "metadata": {},
   "outputs": [],
   "source": []
  }
 ],
 "metadata": {
  "hide_input": false,
  "kernelspec": {
   "display_name": "Python 3 (ipykernel)",
   "language": "python",
   "name": "python3"
  },
  "language_info": {
   "codemirror_mode": {
    "name": "ipython",
    "version": 3
   },
   "file_extension": ".py",
   "mimetype": "text/x-python",
   "name": "python",
   "nbconvert_exporter": "python",
   "pygments_lexer": "ipython3",
   "version": "3.8.2"
  },
  "toc": {
   "base_numbering": 1,
   "nav_menu": {},
   "number_sections": true,
   "sideBar": true,
   "skip_h1_title": false,
   "title_cell": "Table of Contents",
   "title_sidebar": "Contents",
   "toc_cell": false,
   "toc_position": {},
   "toc_section_display": true,
   "toc_window_display": false
  }
 },
 "nbformat": 4,
 "nbformat_minor": 5
}
